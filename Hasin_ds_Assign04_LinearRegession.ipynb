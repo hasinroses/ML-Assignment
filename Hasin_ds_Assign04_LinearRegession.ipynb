{
 "cells": [
  {
   "cell_type": "markdown",
   "id": "0c97c684",
   "metadata": {},
   "source": [
    "# Linear Regression"
   ]
  },
  {
   "cell_type": "code",
   "execution_count": 1,
   "id": "775bff6d",
   "metadata": {},
   "outputs": [],
   "source": [
    "import pandas as pd\n",
    "import numpy as np\n",
    "import seaborn as sns\n",
    "import matplotlib.pyplot as plt"
   ]
  },
  {
   "cell_type": "code",
   "execution_count": 2,
   "id": "33388409",
   "metadata": {},
   "outputs": [
    {
     "name": "stdout",
     "output_type": "stream",
     "text": [
      "         Height      Weight\n",
      "0     73.847017  241.893563\n",
      "1     68.781904  162.310473\n",
      "2     74.110105  212.740856\n",
      "3     71.730978  220.042470\n",
      "4     69.881796  206.349801\n",
      "...         ...         ...\n",
      "3495  68.508851  191.395759\n",
      "3496  69.296830  185.649086\n",
      "3497  70.542201  210.198845\n",
      "3498  73.912549  202.429960\n",
      "3499  67.396021  144.277671\n",
      "\n",
      "[3500 rows x 2 columns]\n"
     ]
    }
   ],
   "source": [
    "df=pd.read_csv(\"F:\\\\Data Science & Machine Learning\\\\Height-WeightData.csv\") #read csv filedd\n",
    "print(df)"
   ]
  },
  {
   "cell_type": "code",
   "execution_count": 3,
   "id": "bc279398",
   "metadata": {},
   "outputs": [],
   "source": [
    "import warnings\n",
    "warnings.filterwarnings('ignore')  #Remove Warning"
   ]
  },
  {
   "cell_type": "code",
   "execution_count": 4,
   "id": "905118e9",
   "metadata": {},
   "outputs": [
    {
     "data": {
      "text/plain": [
       "(3500, 2)"
      ]
     },
     "execution_count": 4,
     "metadata": {},
     "output_type": "execute_result"
    }
   ],
   "source": [
    "df.shape"
   ]
  },
  {
   "cell_type": "code",
   "execution_count": 5,
   "id": "741c649a",
   "metadata": {},
   "outputs": [
    {
     "data": {
      "text/plain": [
       "Text(0.5, 1.0, 'Height and Weight')"
      ]
     },
     "execution_count": 5,
     "metadata": {},
     "output_type": "execute_result"
    },
    {
     "data": {
      "image/png": "[encoded data removed]",
      "text/plain": [
       "<Figure size 432x288 with 1 Axes>"
      ]
     },
     "metadata": {
      "needs_background": "light"
     },
     "output_type": "display_data"
    }
   ],
   "source": [
    "plt.scatter(df['Height'],df['Weight'])\n",
    "plt.xlabel('Height', color='blue')\n",
    "plt.ylabel('Weight',color='green')\n",
    "plt.title('Height and Weight',color='red')"
   ]
  },
  {
   "cell_type": "code",
   "execution_count": 6,
   "id": "aa7ce92e",
   "metadata": {},
   "outputs": [
    {
     "data": {
      "text/plain": [
       "69.02334957008016"
      ]
     },
     "execution_count": 6,
     "metadata": {},
     "output_type": "execute_result"
    }
   ],
   "source": [
    "df.Height.mean() # Mean of Height"
   ]
  },
  {
   "cell_type": "code",
   "execution_count": 7,
   "id": "0f8b8a7e",
   "metadata": {},
   "outputs": [
    {
     "data": {
      "text/plain": [
       "186.89116322205697"
      ]
     },
     "execution_count": 7,
     "metadata": {},
     "output_type": "execute_result"
    }
   ],
   "source": [
    "df.Weight.mean() # mean of weight"
   ]
  },
  {
   "cell_type": "markdown",
   "id": "d99332ce",
   "metadata": {},
   "source": [
    "# Seperate Dependent and Independent Variable"
   ]
  },
  {
   "cell_type": "code",
   "execution_count": 8,
   "id": "bd4f0627",
   "metadata": {},
   "outputs": [],
   "source": [
    "x=df['Height']"
   ]
  },
  {
   "cell_type": "code",
   "execution_count": 9,
   "id": "ab3a2de0",
   "metadata": {},
   "outputs": [],
   "source": [
    "y=df['Weight']"
   ]
  },
  {
   "cell_type": "code",
   "execution_count": 10,
   "id": "a0e3c968",
   "metadata": {},
   "outputs": [],
   "source": [
    "x=df[['Height']]"
   ]
  },
  {
   "cell_type": "code",
   "execution_count": 11,
   "id": "a3a5a479",
   "metadata": {},
   "outputs": [],
   "source": [
    "x=df.drop('Weight',axis=1)"
   ]
  },
  {
   "cell_type": "code",
   "execution_count": 12,
   "id": "68a4b153",
   "metadata": {},
   "outputs": [
    {
     "data": {
      "text/html": [
       "<div>\n",
       "<style scoped>\n",
       "    .dataframe tbody tr th:only-of-type {\n",
       "        vertical-align: middle;\n",
       "    }\n",
       "\n",
       "    .dataframe tbody tr th {\n",
       "        vertical-align: top;\n",
       "    }\n",
       "\n",
       "    .dataframe thead th {\n",
       "        text-align: right;\n",
       "    }\n",
       "</style>\n",
       "<table border=\"1\" class=\"dataframe\">\n",
       "  <thead>\n",
       "    <tr style=\"text-align: right;\">\n",
       "      <th></th>\n",
       "      <th>Height</th>\n",
       "    </tr>\n",
       "  </thead>\n",
       "  <tbody>\n",
       "    <tr>\n",
       "      <th>0</th>\n",
       "      <td>73.847017</td>\n",
       "    </tr>\n",
       "    <tr>\n",
       "      <th>1</th>\n",
       "      <td>68.781904</td>\n",
       "    </tr>\n",
       "    <tr>\n",
       "      <th>2</th>\n",
       "      <td>74.110105</td>\n",
       "    </tr>\n",
       "    <tr>\n",
       "      <th>3</th>\n",
       "      <td>71.730978</td>\n",
       "    </tr>\n",
       "    <tr>\n",
       "      <th>4</th>\n",
       "      <td>69.881796</td>\n",
       "    </tr>\n",
       "  </tbody>\n",
       "</table>\n",
       "</div>"
      ],
      "text/plain": [
       "      Height\n",
       "0  73.847017\n",
       "1  68.781904\n",
       "2  74.110105\n",
       "3  71.730978\n",
       "4  69.881796"
      ]
     },
     "execution_count": 12,
     "metadata": {},
     "output_type": "execute_result"
    }
   ],
   "source": [
    "x.head()"
   ]
  },
  {
   "cell_type": "markdown",
   "id": "87be4247",
   "metadata": {},
   "source": [
    "# Split the dataset"
   ]
  },
  {
   "cell_type": "code",
   "execution_count": 13,
   "id": "867e87cd",
   "metadata": {},
   "outputs": [],
   "source": [
    "from sklearn.model_selection import train_test_split"
   ]
  },
  {
   "cell_type": "code",
   "execution_count": 14,
   "id": "7d03e2b1",
   "metadata": {},
   "outputs": [],
   "source": [
    "#train 70%\n",
    "#test 30%\n",
    "xtrain,xtest,ytrain,ytest=train_test_split(x,y,test_size=0.30)"
   ]
  },
  {
   "cell_type": "code",
   "execution_count": 15,
   "id": "30e4617e",
   "metadata": {},
   "outputs": [
    {
     "data": {
      "text/html": [
       "<div>\n",
       "<style scoped>\n",
       "    .dataframe tbody tr th:only-of-type {\n",
       "        vertical-align: middle;\n",
       "    }\n",
       "\n",
       "    .dataframe tbody tr th {\n",
       "        vertical-align: top;\n",
       "    }\n",
       "\n",
       "    .dataframe thead th {\n",
       "        text-align: right;\n",
       "    }\n",
       "</style>\n",
       "<table border=\"1\" class=\"dataframe\">\n",
       "  <thead>\n",
       "    <tr style=\"text-align: right;\">\n",
       "      <th></th>\n",
       "      <th>Height</th>\n",
       "    </tr>\n",
       "  </thead>\n",
       "  <tbody>\n",
       "    <tr>\n",
       "      <th>911</th>\n",
       "      <td>66.854738</td>\n",
       "    </tr>\n",
       "    <tr>\n",
       "      <th>788</th>\n",
       "      <td>73.202970</td>\n",
       "    </tr>\n",
       "    <tr>\n",
       "      <th>1771</th>\n",
       "      <td>69.573260</td>\n",
       "    </tr>\n",
       "    <tr>\n",
       "      <th>1688</th>\n",
       "      <td>73.541184</td>\n",
       "    </tr>\n",
       "    <tr>\n",
       "      <th>2856</th>\n",
       "      <td>68.562179</td>\n",
       "    </tr>\n",
       "    <tr>\n",
       "      <th>...</th>\n",
       "      <td>...</td>\n",
       "    </tr>\n",
       "    <tr>\n",
       "      <th>1924</th>\n",
       "      <td>71.174814</td>\n",
       "    </tr>\n",
       "    <tr>\n",
       "      <th>3158</th>\n",
       "      <td>67.452767</td>\n",
       "    </tr>\n",
       "    <tr>\n",
       "      <th>1896</th>\n",
       "      <td>76.472880</td>\n",
       "    </tr>\n",
       "    <tr>\n",
       "      <th>2423</th>\n",
       "      <td>67.290776</td>\n",
       "    </tr>\n",
       "    <tr>\n",
       "      <th>2502</th>\n",
       "      <td>71.165018</td>\n",
       "    </tr>\n",
       "  </tbody>\n",
       "</table>\n",
       "<p>1050 rows × 1 columns</p>\n",
       "</div>"
      ],
      "text/plain": [
       "         Height\n",
       "911   66.854738\n",
       "788   73.202970\n",
       "1771  69.573260\n",
       "1688  73.541184\n",
       "2856  68.562179\n",
       "...         ...\n",
       "1924  71.174814\n",
       "3158  67.452767\n",
       "1896  76.472880\n",
       "2423  67.290776\n",
       "2502  71.165018\n",
       "\n",
       "[1050 rows x 1 columns]"
      ]
     },
     "execution_count": 15,
     "metadata": {},
     "output_type": "execute_result"
    }
   ],
   "source": [
    "xtest"
   ]
  },
  {
   "cell_type": "code",
   "execution_count": null,
   "id": "5a6196f0",
   "metadata": {},
   "outputs": [],
   "source": [
    "ytrain.shape"
   ]
  },
  {
   "cell_type": "code",
   "execution_count": 16,
   "id": "97eda55d",
   "metadata": {},
   "outputs": [],
   "source": [
    "from sklearn.linear_model import LinearRegression"
   ]
  },
  {
   "cell_type": "code",
   "execution_count": 17,
   "id": "c86d147f",
   "metadata": {},
   "outputs": [
    {
     "data": {
      "text/plain": [
       "LinearRegression()"
      ]
     },
     "execution_count": 17,
     "metadata": {},
     "output_type": "execute_result"
    }
   ],
   "source": [
    "reg=LinearRegression()\n",
    "reg.fit(xtrain,ytrain)"
   ]
  },
  {
   "cell_type": "code",
   "execution_count": 18,
   "id": "c8a96f8b",
   "metadata": {},
   "outputs": [
    {
     "data": {
      "text/plain": [
       "array([197.76056258])"
      ]
     },
     "execution_count": 18,
     "metadata": {},
     "output_type": "execute_result"
    }
   ],
   "source": [
    "reg.predict([[70.865815]])"
   ]
  },
  {
   "cell_type": "code",
   "execution_count": 19,
   "id": "c8a20cb5",
   "metadata": {},
   "outputs": [
    {
     "data": {
      "text/html": [
       "<div>\n",
       "<style scoped>\n",
       "    .dataframe tbody tr th:only-of-type {\n",
       "        vertical-align: middle;\n",
       "    }\n",
       "\n",
       "    .dataframe tbody tr th {\n",
       "        vertical-align: top;\n",
       "    }\n",
       "\n",
       "    .dataframe thead th {\n",
       "        text-align: right;\n",
       "    }\n",
       "</style>\n",
       "<table border=\"1\" class=\"dataframe\">\n",
       "  <thead>\n",
       "    <tr style=\"text-align: right;\">\n",
       "      <th></th>\n",
       "      <th>Height</th>\n",
       "    </tr>\n",
       "  </thead>\n",
       "  <tbody>\n",
       "    <tr>\n",
       "      <th>911</th>\n",
       "      <td>66.854738</td>\n",
       "    </tr>\n",
       "    <tr>\n",
       "      <th>788</th>\n",
       "      <td>73.202970</td>\n",
       "    </tr>\n",
       "    <tr>\n",
       "      <th>1771</th>\n",
       "      <td>69.573260</td>\n",
       "    </tr>\n",
       "    <tr>\n",
       "      <th>1688</th>\n",
       "      <td>73.541184</td>\n",
       "    </tr>\n",
       "    <tr>\n",
       "      <th>2856</th>\n",
       "      <td>68.562179</td>\n",
       "    </tr>\n",
       "    <tr>\n",
       "      <th>...</th>\n",
       "      <td>...</td>\n",
       "    </tr>\n",
       "    <tr>\n",
       "      <th>1924</th>\n",
       "      <td>71.174814</td>\n",
       "    </tr>\n",
       "    <tr>\n",
       "      <th>3158</th>\n",
       "      <td>67.452767</td>\n",
       "    </tr>\n",
       "    <tr>\n",
       "      <th>1896</th>\n",
       "      <td>76.472880</td>\n",
       "    </tr>\n",
       "    <tr>\n",
       "      <th>2423</th>\n",
       "      <td>67.290776</td>\n",
       "    </tr>\n",
       "    <tr>\n",
       "      <th>2502</th>\n",
       "      <td>71.165018</td>\n",
       "    </tr>\n",
       "  </tbody>\n",
       "</table>\n",
       "<p>1050 rows × 1 columns</p>\n",
       "</div>"
      ],
      "text/plain": [
       "         Height\n",
       "911   66.854738\n",
       "788   73.202970\n",
       "1771  69.573260\n",
       "1688  73.541184\n",
       "2856  68.562179\n",
       "...         ...\n",
       "1924  71.174814\n",
       "3158  67.452767\n",
       "1896  76.472880\n",
       "2423  67.290776\n",
       "2502  71.165018\n",
       "\n",
       "[1050 rows x 1 columns]"
      ]
     },
     "execution_count": 19,
     "metadata": {},
     "output_type": "execute_result"
    }
   ],
   "source": [
    "xtest"
   ]
  },
  {
   "cell_type": "code",
   "execution_count": 20,
   "id": "77be52e9",
   "metadata": {},
   "outputs": [
    {
     "data": {
      "text/plain": [
       "911     161.223965\n",
       "788     203.023116\n",
       "1771    191.547177\n",
       "1688    212.030376\n",
       "2856    190.365472\n",
       "           ...    \n",
       "1924    185.212105\n",
       "3158    195.154314\n",
       "1896    246.232321\n",
       "2423    154.718344\n",
       "2502    198.711519\n",
       "Name: Weight, Length: 1050, dtype: float64"
      ]
     },
     "execution_count": 20,
     "metadata": {},
     "output_type": "execute_result"
    }
   ],
   "source": [
    "ytest"
   ]
  },
  {
   "cell_type": "code",
   "execution_count": 21,
   "id": "403242ff",
   "metadata": {},
   "outputs": [],
   "source": [
    "ypredict=reg.predict(xtest)"
   ]
  },
  {
   "cell_type": "code",
   "execution_count": 22,
   "id": "8941b39e",
   "metadata": {},
   "outputs": [
    {
     "data": {
      "text/plain": [
       "array([173.96084669, 211.62806479, 190.09118984, ..., 231.03006666,\n",
       "       176.54807566, 199.53588194])"
      ]
     },
     "execution_count": 22,
     "metadata": {},
     "output_type": "execute_result"
    }
   ],
   "source": [
    "ypredict"
   ]
  },
  {
   "cell_type": "code",
   "execution_count": 23,
   "id": "a43c8438",
   "metadata": {},
   "outputs": [
    {
     "data": {
      "text/html": [
       "<div>\n",
       "<style scoped>\n",
       "    .dataframe tbody tr th:only-of-type {\n",
       "        vertical-align: middle;\n",
       "    }\n",
       "\n",
       "    .dataframe tbody tr th {\n",
       "        vertical-align: top;\n",
       "    }\n",
       "\n",
       "    .dataframe thead th {\n",
       "        text-align: right;\n",
       "    }\n",
       "</style>\n",
       "<table border=\"1\" class=\"dataframe\">\n",
       "  <thead>\n",
       "    <tr style=\"text-align: right;\">\n",
       "      <th></th>\n",
       "      <th>Height</th>\n",
       "    </tr>\n",
       "  </thead>\n",
       "  <tbody>\n",
       "    <tr>\n",
       "      <th>911</th>\n",
       "      <td>66.854738</td>\n",
       "    </tr>\n",
       "    <tr>\n",
       "      <th>788</th>\n",
       "      <td>73.202970</td>\n",
       "    </tr>\n",
       "    <tr>\n",
       "      <th>1771</th>\n",
       "      <td>69.573260</td>\n",
       "    </tr>\n",
       "    <tr>\n",
       "      <th>1688</th>\n",
       "      <td>73.541184</td>\n",
       "    </tr>\n",
       "    <tr>\n",
       "      <th>2856</th>\n",
       "      <td>68.562179</td>\n",
       "    </tr>\n",
       "    <tr>\n",
       "      <th>...</th>\n",
       "      <td>...</td>\n",
       "    </tr>\n",
       "    <tr>\n",
       "      <th>1924</th>\n",
       "      <td>71.174814</td>\n",
       "    </tr>\n",
       "    <tr>\n",
       "      <th>3158</th>\n",
       "      <td>67.452767</td>\n",
       "    </tr>\n",
       "    <tr>\n",
       "      <th>1896</th>\n",
       "      <td>76.472880</td>\n",
       "    </tr>\n",
       "    <tr>\n",
       "      <th>2423</th>\n",
       "      <td>67.290776</td>\n",
       "    </tr>\n",
       "    <tr>\n",
       "      <th>2502</th>\n",
       "      <td>71.165018</td>\n",
       "    </tr>\n",
       "  </tbody>\n",
       "</table>\n",
       "<p>1050 rows × 1 columns</p>\n",
       "</div>"
      ],
      "text/plain": [
       "         Height\n",
       "911   66.854738\n",
       "788   73.202970\n",
       "1771  69.573260\n",
       "1688  73.541184\n",
       "2856  68.562179\n",
       "...         ...\n",
       "1924  71.174814\n",
       "3158  67.452767\n",
       "1896  76.472880\n",
       "2423  67.290776\n",
       "2502  71.165018\n",
       "\n",
       "[1050 rows x 1 columns]"
      ]
     },
     "execution_count": 23,
     "metadata": {},
     "output_type": "execute_result"
    }
   ],
   "source": [
    "xtest"
   ]
  },
  {
   "cell_type": "code",
   "execution_count": 24,
   "id": "f3198149",
   "metadata": {},
   "outputs": [],
   "source": [
    "from sklearn.metrics import mean_squared_error # Mean Squire Error\n",
    "mse=mean_squared_error(ytest,ypredict)"
   ]
  },
  {
   "cell_type": "code",
   "execution_count": 25,
   "id": "40da51cd",
   "metadata": {},
   "outputs": [
    {
     "data": {
      "text/plain": [
       "95.79296940558446"
      ]
     },
     "execution_count": 25,
     "metadata": {},
     "output_type": "execute_result"
    }
   ],
   "source": [
    "mse"
   ]
  },
  {
   "cell_type": "code",
   "execution_count": 26,
   "id": "d1b7ebbc",
   "metadata": {},
   "outputs": [],
   "source": [
    "from sklearn.metrics import mean_absolute_error # Mean absolute Error\n",
    "mae=mean_squared_error(ytest,ypredict)"
   ]
  },
  {
   "cell_type": "code",
   "execution_count": 27,
   "id": "f0055893",
   "metadata": {},
   "outputs": [
    {
     "data": {
      "text/plain": [
       "95.79296940558446"
      ]
     },
     "execution_count": 27,
     "metadata": {},
     "output_type": "execute_result"
    }
   ],
   "source": [
    "mae"
   ]
  },
  {
   "cell_type": "code",
   "execution_count": 28,
   "id": "8888a40e",
   "metadata": {},
   "outputs": [
    {
     "data": {
      "text/plain": [
       "array([5.93349727])"
      ]
     },
     "execution_count": 28,
     "metadata": {},
     "output_type": "execute_result"
    }
   ],
   "source": [
    "m=reg.coef_   #Coefficient\n",
    "m"
   ]
  },
  {
   "cell_type": "code",
   "execution_count": 29,
   "id": "c399c6df",
   "metadata": {},
   "outputs": [
    {
     "data": {
      "text/plain": [
       "-222.72155697450094"
      ]
     },
     "execution_count": 29,
     "metadata": {},
     "output_type": "execute_result"
    }
   ],
   "source": [
    "c=reg.intercept_  #intercept\n",
    "c"
   ]
  },
  {
   "cell_type": "code",
   "execution_count": 30,
   "id": "8916a952",
   "metadata": {},
   "outputs": [
    {
     "data": {
      "text/plain": [
       "array([197.76056258])"
      ]
     },
     "execution_count": 30,
     "metadata": {},
     "output_type": "execute_result"
    }
   ],
   "source": [
    "y=m*70.865815+c  #Equation\n",
    "y"
   ]
  },
  {
   "cell_type": "code",
   "execution_count": 31,
   "id": "e4243f4d",
   "metadata": {},
   "outputs": [],
   "source": [
    "yp=reg.predict(xtest)"
   ]
  },
  {
   "cell_type": "code",
   "execution_count": 32,
   "id": "c90c1890",
   "metadata": {},
   "outputs": [
    {
     "data": {
      "text/plain": [
       "(1050,)"
      ]
     },
     "execution_count": 32,
     "metadata": {},
     "output_type": "execute_result"
    }
   ],
   "source": [
    "yp.shape"
   ]
  },
  {
   "cell_type": "code",
   "execution_count": 33,
   "id": "1b801bd5",
   "metadata": {},
   "outputs": [
    {
     "data": {
      "text/plain": [
       "[<matplotlib.lines.Line2D at 0x1eb88873040>]"
      ]
     },
     "execution_count": 33,
     "metadata": {},
     "output_type": "execute_result"
    },
    {
     "data": {
      "image/png": "[encoded data removed]",
      "text/plain": [
       "<Figure size 432x288 with 1 Axes>"
      ]
     },
     "metadata": {
      "needs_background": "light"
     },
     "output_type": "display_data"
    }
   ],
   "source": [
    "plt.scatter(df['Height'],df['Weight'], color='red',marker='+')\n",
    "plt.xlabel('Height of Male',color='green')\n",
    "plt.ylabel('Weight of Male',color='blue')\n",
    "plt.title('Male Height and Weight',color='red')\n",
    "plt.plot(np.squeeze(xtest),reg.predict(xtest)) \n"
   ]
  },
  {
   "cell_type": "code",
   "execution_count": null,
   "id": "398672bc",
   "metadata": {},
   "outputs": [],
   "source": []
  }
 ],
 "metadata": {
  "kernelspec": {
   "display_name": "Python 3 (ipykernel)",
   "language": "python",
   "name": "python3"
  },
  "language_info": {
   "codemirror_mode": {
    "name": "ipython",
    "version": 3
   },
   "file_extension": ".py",
   "mimetype": "text/x-python",
   "name": "python",
   "nbconvert_exporter": "python",
   "pygments_lexer": "ipython3",
   "version": "3.9.12"
  }
 },
 "nbformat": 4,
 "nbformat_minor": 5
}
