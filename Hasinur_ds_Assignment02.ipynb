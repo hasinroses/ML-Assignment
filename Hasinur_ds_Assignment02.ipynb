{
 "cells": [
  {
   "cell_type": "markdown",
   "id": "181b2bf7",
   "metadata": {},
   "source": [
    "# Assignment-2"
   ]
  },
  {
   "cell_type": "code",
   "execution_count": 1,
   "id": "b4613ffe",
   "metadata": {},
   "outputs": [
    {
     "name": "stdout",
     "output_type": "stream",
     "text": [
      "Md Hasinur Rahman\n"
     ]
    }
   ],
   "source": [
    "student_name='Md Hasinur Rahman'\n",
    "print(student_name)"
   ]
  },
  {
   "cell_type": "code",
   "execution_count": 2,
   "id": "28a68c11",
   "metadata": {},
   "outputs": [
    {
     "name": "stdout",
     "output_type": "stream",
     "text": [
      "Enter Batch No:13\n",
      "Your Current Student\n"
     ]
    }
   ],
   "source": [
    "batch_no=int(input('Enter Batch No:'))\n",
    "if batch_no==13:\n",
    "    print('Your Current Student')\n",
    "else:\n",
    "    print('You are old Student')"
   ]
  },
  {
   "cell_type": "code",
   "execution_count": 3,
   "id": "509859e4",
   "metadata": {},
   "outputs": [
    {
     "name": "stdout",
     "output_type": "stream",
     "text": [
      "Hasin\n",
      "Aymaan\n",
      "Sarah\n"
     ]
    }
   ],
   "source": [
    "student_name_list=['Hasin','Aymaan','Sarah']\n",
    "for i in student_name_list:\n",
    "    print(i)\n"
   ]
  },
  {
   "cell_type": "code",
   "execution_count": null,
   "id": "e5daa375",
   "metadata": {},
   "outputs": [],
   "source": []
  }
 ],
 "metadata": {
  "kernelspec": {
   "display_name": "Python 3 (ipykernel)",
   "language": "python",
   "name": "python3"
  },
  "language_info": {
   "codemirror_mode": {
    "name": "ipython",
    "version": 3
   },
   "file_extension": ".py",
   "mimetype": "text/x-python",
   "name": "python",
   "nbconvert_exporter": "python",
   "pygments_lexer": "ipython3",
   "version": "3.9.12"
  }
 },
 "nbformat": 4,
 "nbformat_minor": 5
}
